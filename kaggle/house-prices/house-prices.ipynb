{
 "cells": [
  {
   "cell_type": "code",
   "execution_count": null,
   "metadata": {
    "tags": []
   },
   "outputs": [],
   "source": [
    "!head train.csv"
   ]
  },
  {
   "cell_type": "code",
   "execution_count": null,
   "metadata": {
    "tags": []
   },
   "outputs": [],
   "source": [
    "import numpy as np\n",
    "\n",
    "train = np.genfromtxt('train.csv', delimiter=',', names=True)\n",
    "test  = np.genfromtxt('test.csv',  delimiter=',', names=True)\n",
    "print(train.dtype.names)\n",
    "print(test.dtype.names)\n",
    "\n",
    "train = train.view(np.float).reshape(train.shape + (-1,))\n",
    "test  = test.view(np.float).reshape(test.shape   + (-1,))\n",
    "train = train.reshape(len(train), -1)\n",
    "test  = test.reshape( len(test),  -1)\n",
    "\n",
    "#First column is a dataset ID\n",
    "#Last column is price\n",
    "train_x = train[:, 1:-1]\n",
    "train_y = train[:, -1]\n",
    "\n",
    "#No test y!\n",
    "test_x = test[:, 1:]\n",
    "\n",
    "#Handle missing values\n",
    "train_x = np.where(np.isnan(train_x), \\\n",
    "    np.ma.array(train_x, mask=np.isnan(train_x)).mean(axis = 0), train_x)\n",
    "train_y = np.where(np.isnan(train_x).any(), \\\n",
    "    np.ma.array(train_y, mask=train_y).mean(axis = 0), train_y)   \n",
    "test_x = np.where(np.isnan(test_x), \\\n",
    "    np.ma.array(test_x, mask=np.isnan(test_x)).mean(axis = 0), test_x) \n",
    "\n"
   ]
  },
  {
   "cell_type": "code",
   "execution_count": null,
   "metadata": {},
   "outputs": [],
   "source": [
    "#investigate\n"
   ]
  },
  {
   "cell_type": "code",
   "execution_count": null,
   "metadata": {
    "tags": []
   },
   "outputs": [],
   "source": [
    "#kfolds\n",
    "KFOLDS    = 10\n",
    "TR_SPLIT  = 0.9\n",
    "SEED      = 0\n",
    "\n",
    "from sklearn.ensemble import GradientBoostingRegressor as regressor\n",
    "from sklearn.model_selection import KFold as kfold\n",
    "from sklearn.linear_model import LinearRegression as linear_regression\n",
    "from sklearn.metrics import mean_squared_error\n",
    "\n",
    "parameters = {'n_estimators': 500,\n",
    "              'max_depth': 3,\n",
    "              'learning_rate': 0.01}\n",
    "\n",
    "\n",
    "def experiment_kfold():\n",
    "    kf = kfold(n_splits=KFOLDS, shuffle=True, random_state=SEED)\n",
    "\n",
    "    var_selection = []\n",
    "    for train_idx, test_idx in kf.split(train_x):\n",
    "        #print(test_idx)\n",
    "        train_x_kf = train_x[train_idx, :]\n",
    "        train_y_kf = train_y[train_idx]\n",
    "        test_x_kf  = train_x[test_idx, :]\n",
    "\n",
    "        r = regressor(**parameters)\n",
    "        #r = linear_regression()\n",
    "        r.fit(train_x_kf, train_y_kf)\n",
    "        r.predict(test_x_kf)\n",
    "        s = r.score(train_x[test_idx, :], train_y[test_idx])\n",
    "        print(s)\n",
    "\n",
    "experiment_kfold()\n",
    "\n",
    "def train():\n",
    "    r = regressor(**parameters, random_state=SEED)\n",
    "    r.fit(train_x, train_y)\n",
    "    out = r.predict(test_x)\n",
    "    return out   \n"
   ]
  },
  {
   "cell_type": "code",
   "execution_count": null,
   "metadata": {
    "tags": []
   },
   "outputs": [],
   "source": [
    "#Print to Kaggle format\n",
    "test_prices = train()\n",
    "print(len(test_prices))\n",
    "assert(len(test_prices) == 1459)\n",
    "\n",
    "with open(\"submission.csv\", \"w\") as f:\n",
    "    f.write(\"Id,SalePrice\\n\")\n",
    "    for i, price in enumerate(test_prices):\n",
    "        f.write(str(1461 + i) + \",\" + str(price))\n",
    "        if i != len(test_prices) - 1:\n",
    "            f.write(\"\\n\")"
   ]
  },
  {
   "cell_type": "code",
   "execution_count": null,
   "metadata": {
    "tags": []
   },
   "outputs": [],
   "source": [
    "!head sample_submission.csv \n",
    "!head submission.csv\n",
    "\n",
    "!tail sample_submission.csv\n",
    "!tail submission.csv"
   ]
  }
 ],
 "metadata": {
  "language_info": {
   "codemirror_mode": {
    "name": "ipython",
    "version": 3
   },
   "file_extension": ".py",
   "mimetype": "text/x-python",
   "name": "python",
   "nbconvert_exporter": "python",
   "pygments_lexer": "ipython3",
   "version": "3"
  },
  "orig_nbformat": 2,
  "kernelspec": {
   "name": "python3",
   "display_name": "Python 3"
  }
 },
 "nbformat": 4,
 "nbformat_minor": 2
}
